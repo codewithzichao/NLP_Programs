{
 "cells": [
  {
   "cell_type": "code",
   "execution_count": 15,
   "metadata": {},
   "outputs": [],
   "source": [
    "from jieba import lcut\n",
    "from gensim.similarities import SparseMatrixSimilarity\n",
    "from gensim.corpora import Dictionary\n",
    "from gensim.models import TfidfModel"
   ]
  },
  {
   "cell_type": "code",
   "execution_count": 16,
   "metadata": {},
   "outputs": [],
   "source": [
    "texts=['吃鸡这里所谓的吃鸡并不是真的吃鸡，也不是谐音词刺激的意思',\n",
    "         '而是出自策略射击游戏《绝地求生：大逃杀》里的台词',\n",
    "         '我吃鸡翅，你吃鸡腿']\n",
    "keyword = '玩过吃鸡？今晚一起吃鸡'"
   ]
  },
  {
   "cell_type": "code",
   "execution_count": 41,
   "metadata": {},
   "outputs": [
    {
     "name": "stdout",
     "output_type": "stream",
     "text": [
      "['而是', '出自', '策略', '射击', '游戏', '《', '绝地', '求生', '：', '大逃杀', '》', '里', '的', '台词'] \n",
      "\n",
      "{'不是': 0, '也': 1, '刺激': 2, '吃': 3, '并': 4, '意思': 5, '所谓': 6, '的': 7, '真的': 8, '词': 9, '谐音': 10, '这里': 11, '鸡': 12, '，': 13, '《': 14, '》': 15, '出自': 16, '台词': 17, '大逃杀': 18, '射击': 19, '求生': 20, '游戏': 21, '策略': 22, '绝地': 23, '而是': 24, '里': 25, '：': 26, '你': 27, '我': 28, '鸡翅': 29, '鸡腿': 30}\n",
      "31\n"
     ]
    }
   ],
   "source": [
    "#进行分词\n",
    "words_texts=[lcut(text) for text in texts]\n",
    "print(words_texts[1],\"\\n\")\n",
    "#建立字典\n",
    "my_dict=Dictionary(words_texts)\n",
    "print(my_dict.token2id)\n",
    "print(my_dict.__len__())#字典的数目"
   ]
  },
  {
   "cell_type": "code",
   "execution_count": 40,
   "metadata": {},
   "outputs": [
    {
     "name": "stdout",
     "output_type": "stream",
     "text": [
      "[(0, 2), (1, 1), (2, 1), (3, 3), (4, 1), (5, 1), (6, 1), (7, 2), (8, 1), (9, 1), (10, 1), (11, 1), (12, 3), (13, 1)]\n"
     ]
    }
   ],
   "source": [
    "corpus=[my_dict.doc2bow(text) for text in words_texts]\n",
    "print(corpus[0])"
   ]
  },
  {
   "cell_type": "code",
   "execution_count": null,
   "metadata": {},
   "outputs": [],
   "source": []
  }
 ],
 "metadata": {
  "kernelspec": {
   "display_name": "Python 3",
   "language": "python",
   "name": "python3"
  }
 },
 "nbformat": 4,
 "nbformat_minor": 4
}

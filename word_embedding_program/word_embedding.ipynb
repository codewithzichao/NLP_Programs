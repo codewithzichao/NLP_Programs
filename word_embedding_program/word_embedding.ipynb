{
 "cells": [
  {
   "cell_type": "markdown",
   "metadata": {},
   "source": [
    "## 项目简介"
   ]
  },
  {
   "cell_type": "code",
   "execution_count": 1,
   "metadata": {},
   "outputs": [],
   "source": [
    "#导入tensorflow\n",
    "import tensorflow as tf\n",
    "from tensorflow.keras import layers\n",
    "import tensorflow_datasets as tfds\n",
    "import pandas as pd\n",
    "import matplotlib.pyplot as plt\n",
    "import os\n",
    "import numpy as np"
   ]
  },
  {
   "cell_type": "markdown",
   "metadata": {},
   "source": [
    "**1.导入数据。在这里，我使用tfds中的imdb_reviews数据集(这里选用的是子词数目为8k的版本)。**"
   ]
  },
  {
   "cell_type": "code",
   "execution_count": 2,
   "metadata": {},
   "outputs": [],
   "source": [
    "'''\n",
    "tfds.load(name,split,with_info,as_supervied)常用参数解释：\n",
    "\n",
    "1. name：是字符串，可以是”dataset_name(数据集名)，也可以是“/filepath/dataset_name”(数据路径名),总之必须是字符串；\n",
    "2. split：split表示希望数据切分的结果，一般就是切分为训练集与测试集，(tfds.Split.TRAIN,tfds.Split.TEST);\n",
    "3. with_info：为True，表示打印出与数据集相关的信息：特征名，数量，来源等等，\n",
    "   返回的是tuple:(tf.data.Dataset, tfds.core.DatasetInfo)；为False，不打印;\n",
    "4. as_supervised：为True，表示将切分的训练集与测试集都表示为(feature,label)；为False，表示输出的训练集与测试集是包含所有特征的字典.\n",
    "\n",
    "来源：https://tensorflow.google.cn/datasets/api_docs/python/tfds/load#args\n",
    "'''\n",
    "\n",
    "'''\n",
    "(train_data,test_data):训练集，测试集\n",
    "info：与数据集相关的信息\n",
    "'''\n",
    "(train_data,test_data),info=tfds.load(\"imdb_reviews/subwords8k\",\n",
    "                                     split=(tfds.Split.TRAIN,tfds.Split.TEST),\n",
    "                                     with_info=True,\n",
    "                                     as_supervised=True)"
   ]
  },
  {
   "cell_type": "code",
   "execution_count": 3,
   "metadata": {},
   "outputs": [
    {
     "name": "stdout",
     "output_type": "stream",
     "text": [
      "tfds.core.DatasetInfo(\n",
      "    name='imdb_reviews',\n",
      "    version=1.0.0,\n",
      "    description='Large Movie Review Dataset.\n",
      "This is a dataset for binary sentiment classification containing substantially more data than previous benchmark datasets. We provide a set of 25,000 highly polar movie reviews for training, and 25,000 for testing. There is additional unlabeled data for use as well.',\n",
      "    homepage='http://ai.stanford.edu/~amaas/data/sentiment/',\n",
      "    features=FeaturesDict({\n",
      "        'label': ClassLabel(shape=(), dtype=tf.int64, num_classes=2),\n",
      "        'text': Text(shape=(None,), dtype=tf.int64, encoder=<SubwordTextEncoder vocab_size=8185>),\n",
      "    }),\n",
      "    total_num_examples=100000,\n",
      "    splits={\n",
      "        'test': 25000,\n",
      "        'train': 25000,\n",
      "        'unsupervised': 50000,\n",
      "    },\n",
      "    supervised_keys=('text', 'label'),\n",
      "    citation=\"\"\"@InProceedings{maas-EtAl:2011:ACL-HLT2011,\n",
      "      author    = {Maas, Andrew L.  and  Daly, Raymond E.  and  Pham, Peter T.  and  Huang, Dan  and  Ng, Andrew Y.  and  Potts, Christopher},\n",
      "      title     = {Learning Word Vectors for Sentiment Analysis},\n",
      "      booktitle = {Proceedings of the 49th Annual Meeting of the Association for Computational Linguistics: Human Language Technologies},\n",
      "      month     = {June},\n",
      "      year      = {2011},\n",
      "      address   = {Portland, Oregon, USA},\n",
      "      publisher = {Association for Computational Linguistics},\n",
      "      pages     = {142--150},\n",
      "      url       = {http://www.aclweb.org/anthology/P11-1015}\n",
      "    }\"\"\",\n",
      "    redistribution_info=,\n",
      ")\n",
      "\n"
     ]
    }
   ],
   "source": [
    "#打印info,可以看到与数据集相关的信息\n",
    "print(info)"
   ]
  },
  {
   "cell_type": "code",
   "execution_count": 4,
   "metadata": {
    "scrolled": false
   },
   "outputs": [
    {
     "name": "stdout",
     "output_type": "stream",
     "text": [
      "['the_', ', ', '. ', 'a_', 'and_', 'of_', 'to_', 's_', 'is_', 'br']\n",
      "7928\n",
      "8185\n"
     ]
    }
   ],
   "source": [
    "encoder=info.features[\"text\"].encoder\n",
    "#打印前10个子词，譬如：“a_”，其中_表示空格\n",
    "print(encoder.subwords[:10])\n",
    "#打印子词的总数量\n",
    "print(encoder.subwords.__len__())\n",
    "#打印词汇表的数量，这里需要注意，词汇表的数量比子词数量多，这是因为在词汇表中，还存在一些用来构建其他单词的词根\n",
    "print(encoder.vocab_size)"
   ]
  },
  {
   "cell_type": "code",
   "execution_count": 5,
   "metadata": {},
   "outputs": [],
   "source": [
    "#使用padded_batch方法来标准化评论的长度\n",
    "padded_shapes=([None],())\n",
    "train_batchs=train_data.shuffle(1024).padded_batch(128,padded_shapes=padded_shapes)\n",
    "test_batchs=test_data.shuffle(1024).padded_batch(10,padded_shapes=padded_shapes)"
   ]
  },
  {
   "cell_type": "code",
   "execution_count": 6,
   "metadata": {},
   "outputs": [
    {
     "name": "stdout",
     "output_type": "stream",
     "text": [
      "(128, 1109)\n"
     ]
    }
   ],
   "source": [
    "# 样本都被padding到了每一批中最长的样本长度\n",
    "train_batch,train_label=next(iter(train_batchs))\n",
    "train_batch.numpy(),train_batch.numpy().shape\n",
    "print(train_batch.shape)"
   ]
  },
  {
   "cell_type": "markdown",
   "metadata": {},
   "source": [
    "### 创建CBOW模型\n"
   ]
  },
  {
   "cell_type": "code",
   "execution_count": 7,
   "metadata": {},
   "outputs": [
    {
     "name": "stdout",
     "output_type": "stream",
     "text": [
      "Model: \"sequential\"\n",
      "_________________________________________________________________\n",
      "Layer (type)                 Output Shape              Param #   \n",
      "=================================================================\n",
      "embedding (Embedding)        (None, None, 256)         2095360   \n",
      "_________________________________________________________________\n",
      "global_average_pooling1d (Gl (None, 256)               0         \n",
      "_________________________________________________________________\n",
      "dense (Dense)                (None, 1)                 257       \n",
      "=================================================================\n",
      "Total params: 2,095,617\n",
      "Trainable params: 2,095,617\n",
      "Non-trainable params: 0\n",
      "_________________________________________________________________\n"
     ]
    }
   ],
   "source": [
    "embedding_dim=256\n",
    "model=tf.keras.Sequential([\n",
    "    layers.Embedding(encoder.vocab_size,embedding_dim),\n",
    "    layers.GlobalAveragePooling1D(),\n",
    "    # 删除这一层，模型更加简单，获得的词向量更具有解释性\n",
    "#     layers.Dense(16,activation='relu'),\n",
    "    layers.Dense(1,activation='sigmoid')\n",
    "])\n",
    "model.summary()"
   ]
  },
  {
   "cell_type": "code",
   "execution_count": 8,
   "metadata": {},
   "outputs": [],
   "source": [
    "#构建网络架构\n",
    "embedding_size=256\n",
    "\n",
    "inputs=tf.keras.Input(shape=(train_batch.shape[1],))\n",
    "h1=layers.Embedding(input_dim=encoder.vocab_size,output_dim=embedding_size)(inputs)\n",
    "h1=layers.GlobalAveragePooling1D()(h1)\n",
    "outputs=layers.Dense(1,activation=\"sigmoid\")(h1)\n",
    "\n",
    "model=tf.keras.Model(inputs=inputs,outputs=outputs)"
   ]
  },
  {
   "cell_type": "code",
   "execution_count": 9,
   "metadata": {},
   "outputs": [
    {
     "name": "stdout",
     "output_type": "stream",
     "text": [
      "Model: \"model\"\n",
      "_________________________________________________________________\n",
      "Layer (type)                 Output Shape              Param #   \n",
      "=================================================================\n",
      "input_1 (InputLayer)         [(None, 1109)]            0         \n",
      "_________________________________________________________________\n",
      "embedding_1 (Embedding)      (None, 1109, 256)         2095360   \n",
      "_________________________________________________________________\n",
      "global_average_pooling1d_1 ( (None, 256)               0         \n",
      "_________________________________________________________________\n",
      "dense_1 (Dense)              (None, 1)                 257       \n",
      "=================================================================\n",
      "Total params: 2,095,617\n",
      "Trainable params: 2,095,617\n",
      "Non-trainable params: 0\n",
      "_________________________________________________________________\n"
     ]
    },
    {
     "data": {
      "image/png": "[encoded data removed]",
      "text/plain": [
       "<IPython.core.display.Image object>"
      ]
     },
     "execution_count": 9,
     "metadata": {},
     "output_type": "execute_result"
    }
   ],
   "source": [
    "#打印模型架构\n",
    "model.summary()\n",
    "tf.keras.utils.plot_model(model,\"cbow_model.png\",show_shapes=True)"
   ]
  },
  {
   "cell_type": "code",
   "execution_count": 10,
   "metadata": {},
   "outputs": [
    {
     "name": "stdout",
     "output_type": "stream",
     "text": [
      "we will load model!\n"
     ]
    }
   ],
   "source": [
    "#注意，我是在colab上跑的模型，然后将权重下载下来，因为mac上没有cuda(😭)\n",
    "#如果你自己的机器上可以跑的话，那么直接就可以了\n",
    "if os.path.exists(\"./word_embedding/weights\"+\".index\"):\n",
    "    print(\"we will load model!\")\n",
    "    model.load_weights(\"./word_embedding/weights\")\n",
    "else:\n",
    "    #定义callbacks\n",
    "    callbacks=tf.keras.callbacks.ModelCheckpoint(filepath=\"./word_embedding/worr_embedding.ckpt\",\n",
    "                                                save_weights_only=True)\n",
    "    #训练模型\n",
    "    model.compile(optimizer='adam',\n",
    "                 loss='binary_crossentropy',\n",
    "                 metrics=['accuracy'])\n",
    "    history=model.fit(train_batchs,validation_data=test_batchs,epochs=8,callbacks=[callbacks])"
   ]
  },
  {
   "cell_type": "markdown",
   "metadata": {},
   "source": [
    "## 获取训练好的词向量"
   ]
  },
  {
   "cell_type": "code",
   "execution_count": 11,
   "metadata": {
    "scrolled": false
   },
   "outputs": [
    {
     "name": "stdout",
     "output_type": "stream",
     "text": [
      "<tensorflow.python.keras.layers.embeddings.Embedding object at 0x63e8d2d10>\n",
      "(8185, 256)\n"
     ]
    }
   ],
   "source": [
    "# 词向量的维度是（vocab_size,embeddind_dim)\n",
    "embedding=model.layers[1]\n",
    "print(embedding)\n",
    "weights=embedding.get_weights()[0]\n",
    "print(weights.shape)\n",
    "# # shape: (vocab_size, embedding_dim)"
   ]
  },
  {
   "cell_type": "code",
   "execution_count": 12,
   "metadata": {
    "scrolled": true
   },
   "outputs": [
    {
     "name": "stdout",
     "output_type": "stream",
     "text": [
      "[[ 0.03674514  0.03667488  0.01724854  0.05671534 -0.03932721  0.03601478\n",
      "  -0.00119376  0.02926619  0.03596869  0.00332739 -0.01752954  0.04279882\n",
      "  -0.01265101 -0.02364092 -0.02796109 -0.02059811 -0.04058252  0.01984459\n",
      "  -0.04853086  0.0204135   0.04166331  0.01895269 -0.05226582 -0.02615745\n",
      "  -0.01883722 -0.02309862 -0.00903557 -0.03964091  0.0397741  -0.00400699\n",
      "  -0.03473621  0.0233261  -0.03468351  0.03619903  0.02688707  0.01521487\n",
      "   0.04015989  0.02046127 -0.04891264 -0.00283322  0.07034566  0.04100341\n",
      "  -0.04144504  0.03712101 -0.02132559  0.00271413  0.0252488   0.00435524\n",
      "  -0.02670787 -0.01344186  0.01526742  0.03075549  0.02627658  0.02251604\n",
      "   0.04783022 -0.00376078  0.00991804 -0.02180438 -0.02694117  0.00776211\n",
      "  -0.03234079  0.00728674 -0.00471138 -0.01573562  0.02995441 -0.05567717\n",
      "   0.00389069  0.05353813 -0.0701056   0.01811667 -0.02927376  0.02138192\n",
      "   0.03708767 -0.00527796 -0.00089927  0.0104067  -0.0224056   0.03928775\n",
      "  -0.06097449 -0.01973315  0.00641546 -0.00520278 -0.02662633  0.01684818\n",
      "  -0.05420516 -0.0126019  -0.03168094  0.05907863 -0.00898007  0.0381326\n",
      "  -0.06298301  0.02515709 -0.03412678  0.00155646  0.01455605  0.03457413\n",
      "   0.00033777  0.00496467 -0.03708082  0.04978276  0.0179058  -0.02954365\n",
      "  -0.05577082 -0.02540638 -0.00410096 -0.01664774 -0.00544409  0.01327715\n",
      "   0.01126038  0.045282    0.05206598  0.00726826  0.06457613 -0.00357479\n",
      "  -0.02271319  0.05757253  0.03682039 -0.05025141 -0.03958755  0.03992082\n",
      "  -0.05205081  0.04311397 -0.01797812  0.05787018 -0.02650624  0.05219656\n",
      "  -0.02878633  0.01685455 -0.01506934  0.03323073  0.02136052 -0.0312737\n",
      "   0.0109784  -0.03322366  0.01358589  0.02307156  0.01517269 -0.07023741\n",
      "  -0.02094195  0.0203064   0.02241633  0.00087424 -0.04520058  0.03609321\n",
      "   0.06269525 -0.00095928 -0.05870203  0.01955996  0.02121599  0.00938113\n",
      "   0.03685152 -0.01508544  0.00395459 -0.02818697  0.04702972  0.02055439\n",
      "   0.02492272 -0.01950947  0.03314841  0.02000586  0.02298908  0.00082157\n",
      "   0.04505726  0.02846362 -0.01571232 -0.04740964  0.04196297  0.02394825\n",
      "   0.01019909 -0.0297999   0.03256745  0.011232    0.04431746  0.02696958\n",
      "  -0.00314173 -0.05719168  0.00574994 -0.0285203   0.00664935 -0.02652096\n",
      "   0.03421601  0.02648157 -0.01529144 -0.05149813 -0.0119601   0.00518751\n",
      "  -0.00954279 -0.02905076 -0.00811163  0.02351476 -0.04241981  0.04049071\n",
      "   0.04743599 -0.01960924 -0.01307535  0.05673263 -0.0079583  -0.02577076\n",
      "   0.01147409 -0.00450789 -0.01220784  0.05885067  0.05410746  0.03451571\n",
      "   0.02815863 -0.00709084  0.01760953 -0.01570818  0.08350827 -0.01032631\n",
      "  -0.03959594  0.04548531 -0.02222663  0.0139116   0.00931975  0.0176559\n",
      "  -0.02056994  0.03399276 -0.04431851 -0.00174677 -0.05759503  0.01145544\n",
      "   0.02332828  0.01870167  0.03100526 -0.02402508  0.01574637 -0.02199452\n",
      "   0.0064344   0.02501744  0.02820291  0.04597206  0.07455884  0.05725845\n",
      "   0.0055266   0.02950812  0.00235464  0.01323732  0.03851274  0.05830346\n",
      "   0.05436302 -0.0127126   0.06640711 -0.01779666  0.02702123 -0.0403835\n",
      "   0.00305154 -0.00604836 -0.05737093  0.04859485  0.00073108 -0.05313326\n",
      "  -0.05801761 -0.02240404  0.03503234 -0.02790326]] (1, 256)\n",
      "m_\n"
     ]
    }
   ],
   "source": [
    "# 将得到的词向量与对于单词保存到文本中\n",
    "# 以下代码来自于官方教程，但是我认为这是错误的\n",
    "# 以至于之后我找最后最接近的10个单词结果很诡异\n",
    "# 词汇表中第一个单词是'the_'\n",
    "# 时间上这个单词对应的编码是[181, 8024]\n",
    "# 单词the对应的是 181，‘_'对应8024\n",
    "# 这样也就可以解释subwords只有7928个，voabsize是8025\n",
    "# 当然，以上只是我个人想法，也许我没有理解官方教程的意思\n",
    "\n",
    "vecs=[]\n",
    "import io\n",
    "encoder=info.features['text'].encoder\n",
    "out_v=io.open('word_embedding/vecs.tsv','w',encoding='utf-8')\n",
    "out_m=io.open('word_embedding/meta.tsv','w',encoding='utf-8')\n",
    "for num, word in enumerate(encoder.subwords):\n",
    "#     vec = weights[num+1] # skip 0, it's padding.\n",
    "    # 注释掉的是官方教程中的,下面是我认为正确的\n",
    "    if(num==110):\n",
    "        print(word)\n",
    "    vec=weights[encoder.encode(word)]\n",
    "    if num==1:\n",
    "        print(vec,vec.shape)\n",
    "    if len(vec)==1:\n",
    "        vecs.append(vec)\n",
    "    out_m.write(word + \"\\n\")#保存子词\n",
    "    out_v.write('\\t'.join([str(x) for x in vec]) + \"\\n\")#保存每个子词所对应的embedding\n",
    "out_v.close()\n",
    "out_m.close()"
   ]
  },
  {
   "cell_type": "code",
   "execution_count": 13,
   "metadata": {},
   "outputs": [
    {
     "data": {
      "text/plain": [
       "(7928, 8185)"
      ]
     },
     "execution_count": 13,
     "metadata": {},
     "output_type": "execute_result"
    }
   ],
   "source": [
    "len(encoder.subwords),encoder.vocab_size #encoder中遍历单词个数与vocab_size不一致\n",
    "# 原因是 subwords包含的是单词以及部分词根，而词汇表中包含了一些符号，如'_',','等等"
   ]
  },
  {
   "cell_type": "markdown",
   "metadata": {},
   "source": []
  },
  {
   "cell_type": "code",
   "execution_count": 42,
   "metadata": {},
   "outputs": [],
   "source": [
    "class Similarity(object):\n",
    "    def __init__(self):\n",
    "        super(Similarity,self).__init__()\n",
    "\n",
    "   # 计算两个词向量的距离\n",
    "    def cal_eul_distance(self,x1,x2):\n",
    "        return np.sqrt(np.sum(np.square(x1-x2)))\n",
    "\n",
    "    \n",
    "    # 构建距离矩阵\n",
    "    def build_distance_matrix(self,x):\n",
    "        matrix=np.zeros((len(x),len(x)))\n",
    "        for i in range(len(x)):\n",
    "            for j in range(i,len(x)):\n",
    "                distance=self.cal_eul_distance(x[i],x[j])\n",
    "                matrix[i][j]=distance\n",
    "                matrix[j][i]=distance\n",
    "        return matrix\n",
    "    \n",
    "    # 获得单词与其对应的索引\n",
    "    def get_index_and_word(self,encoder):\n",
    "        vocabulary=[]\n",
    "        for word in encoder.subwords:\n",
    "            if word[-1]=='_' or word[-1]==' ':\n",
    "                word=word[:-1] #去掉最后的‘_'\n",
    "            # 这个index才是单词在embedding层中真正对应的index\n",
    "            index=encoder.encode(word)\n",
    "            vocabulary.append((index,word))\n",
    "        return vocabulary\n",
    "\n",
    "    def find_top_K(self,matrix,index,K):\n",
    "        dis=matrix[index] # 获得了测试单词词向量到所有单词词向量的距离\n",
    "\n",
    "        #下面我们需要找到distances中最小的k个元素，并且返回他们的索引就可以了\n",
    "        # argsort函数返回的是数组值从小到大的索引值\n",
    "        # 将distances变为np.array，然后对索引排序，取前k个\n",
    "        minK=np.argsort(np.array(dis))[:K]\n",
    "        print(minK)\n",
    "        result=[]\n",
    "        for i in range(K):\n",
    "            result.append(words[minK[i]])\n",
    "        return result"
   ]
  },
  {
   "cell_type": "code",
   "execution_count": 43,
   "metadata": {},
   "outputs": [],
   "source": [
    "a=Similarity()"
   ]
  },
  {
   "cell_type": "code",
   "execution_count": 40,
   "metadata": {},
   "outputs": [
    {
     "name": "stdout",
     "output_type": "stream",
     "text": [
      "[181]\n",
      "the\n",
      "7928\n",
      "5375\n",
      "the 0\n",
      "distance between good and bad is 20.785064697265625)\n",
      "distance between good and nice is 9.08594036102295)\n",
      "good nice bad\n"
     ]
    }
   ],
   "source": [
    "# 包含了（index，word）其中index是embeding层中对应的index\n",
    "vocab=a.get_index_and_word(encoder)#获取\n",
    "index,word=vocab[0]\n",
    "print(index)\n",
    "print(word)\n",
    "print(vocab.__len__())\n",
    "\n",
    "\n",
    "vec=[]#保存每个token的embedding\n",
    "words=[]#保存所有的token\n",
    "# 下面依据index构建词向量矩阵与单词矩阵\n",
    "for (index,word) in vocab:\n",
    "    #  注意有些词是合成的，所以有多个index，对于这些词，就不管了\n",
    "    if len(index)==1 and word not in words:\n",
    "        vec.append(weights[index[0]])\n",
    "        words.append(word)\n",
    "print(len(vec))\n",
    "print(words[0],words.index(\"the\"))\n",
    "words.index('good'),words.index('bad'),words.index('nice')\n",
    "# 测试一下 good 与 nice，应该很接近\n",
    "# good与bad很远\n",
    "# 欧式距离\n",
    "print(f'distance between {words[68]} and {words[121]} is {a.cal_eul_distance(vec[68],vec[121])})')\n",
    "print(f'distance between {words[68]} and {words[355]} is {a.cal_eul_distance(vec[68],vec[355])})')\n",
    "\n",
    "print(words[68],words[355],words[121])\n"
   ]
  },
  {
   "cell_type": "code",
   "execution_count": 22,
   "metadata": {},
   "outputs": [],
   "source": [
    "D=a.build_distance_matrix(vec)"
   ]
  },
  {
   "cell_type": "code",
   "execution_count": 28,
   "metadata": {},
   "outputs": [
    {
     "data": {
      "text/plain": [
       "(357,\n",
       " array([-0.81756485,  0.8845696 ,  0.7981111 ,  0.88830745, -0.7718989 ,\n",
       "        -0.7743183 ,  0.8282609 ,  0.8156345 ,  0.76640636,  0.8987174 ,\n",
       "         0.8452093 ,  0.829567  ,  0.7258168 , -0.8346607 , -0.8645079 ,\n",
       "         0.78254247, -0.8240878 ,  0.838096  , -0.86232865, -0.77565986,\n",
       "         0.7549031 ,  0.80530006, -0.8692067 , -0.7586058 ,  0.8231848 ,\n",
       "        -0.80219203,  0.8046923 , -0.80172473, -0.8299744 ,  0.82461894,\n",
       "        -0.7439966 ,  0.8448385 ,  0.74287933,  0.8472642 ,  0.826696  ,\n",
       "         0.79085034, -0.8653219 ,  0.8494416 , -0.9021968 ,  0.827109  ,\n",
       "         0.8458385 ,  0.77066934, -0.7798099 , -0.8037085 , -0.7833666 ,\n",
       "         0.73181105, -0.7848915 , -0.84284276, -0.78433067,  0.79069656,\n",
       "        -0.7979986 ,  0.73162335, -0.731095  ,  0.8671764 ,  0.8721723 ,\n",
       "         0.8376888 ,  0.72624046,  0.76385957,  0.8036252 , -0.74609613,\n",
       "         0.8184952 , -0.72099394, -0.79891574,  0.81171143,  0.81777495,\n",
       "        -0.8522996 , -0.77029884,  0.7602869 , -0.8937441 , -0.80947584,\n",
       "         0.77447397, -0.8632961 , -0.8360406 ,  0.7409472 , -0.8697288 ,\n",
       "         0.7617712 ,  0.84911954,  0.77637994, -0.81112844, -0.8133252 ,\n",
       "        -0.7602937 ,  0.8234424 ,  0.8391516 ,  0.85817635, -0.7891146 ,\n",
       "        -0.8082811 , -0.81839764,  0.9106559 ,  0.8787731 ,  0.81440157,\n",
       "        -0.8113684 , -0.81541294, -0.8136309 ,  0.75621104,  0.88143826,\n",
       "         0.79990524, -0.8375563 ,  0.90388376, -0.8769841 ,  0.8905546 ,\n",
       "        -0.8759257 ,  0.77850693, -0.8687944 , -0.8133095 , -0.81010675,\n",
       "        -0.8221047 , -0.70741826, -0.8544808 ,  0.86641544,  0.8131427 ,\n",
       "         0.7882217 ,  0.86698574,  0.82837754,  0.73480797, -0.88775396,\n",
       "         0.88073814, -0.8342066 , -0.78835297,  0.76494694,  0.8197889 ,\n",
       "        -0.8849774 ,  0.84661835,  0.8925447 ,  0.87285316,  0.7761603 ,\n",
       "         0.8411664 , -0.79794323, -0.83284116, -0.82431287,  0.845515  ,\n",
       "        -0.8392751 , -0.8559096 , -0.8984007 ,  0.7987281 , -0.86051834,\n",
       "        -0.79430395,  0.80012167, -0.86947   ,  0.7973281 ,  0.87238026,\n",
       "        -0.82737756,  0.8264277 , -0.7477295 ,  0.7287437 ,  0.8855959 ,\n",
       "         0.7769375 , -0.73745424,  0.81100607,  0.8283447 , -0.82138973,\n",
       "         0.87508744, -0.8124166 ,  0.8047143 ,  0.7435114 ,  0.8029804 ,\n",
       "         0.84565955, -0.8286809 , -0.82138544,  0.8311507 , -0.80766916,\n",
       "         0.8112361 ,  0.89232385,  0.7757097 ,  0.82354766, -0.8479546 ,\n",
       "        -0.7784735 ,  0.81011856, -0.7853344 , -0.85232395, -0.82576627,\n",
       "         0.75819063,  0.80542314, -0.7869125 ,  0.8210755 , -0.7837808 ,\n",
       "        -0.850048  ,  0.82775635,  0.8301197 ,  0.7913345 , -0.82440746,\n",
       "         0.81042427,  0.84133613, -0.7995445 , -0.8241869 , -0.8311367 ,\n",
       "         0.7694428 , -0.704129  , -0.8458276 ,  0.78692967,  0.86377853,\n",
       "        -0.80070126,  0.7739614 ,  0.8448009 ,  0.8294202 ,  0.79030305,\n",
       "         0.8254063 , -0.75110024, -0.76113063,  0.79253197, -0.7618607 ,\n",
       "        -0.85630876,  0.8114717 ,  0.82587487, -0.8133505 ,  0.88055784,\n",
       "         0.8391473 ,  0.7479739 ,  0.82921886,  0.8842157 , -0.7449552 ,\n",
       "        -0.8606892 ,  0.78689104, -0.8567537 ,  0.81201893, -0.77940726,\n",
       "        -0.8884131 ,  0.7920141 , -0.8243303 , -0.90175253,  0.84760904,\n",
       "        -0.8576439 ,  0.810492  , -0.7991617 , -0.72149825,  0.85495055,\n",
       "         0.83084756,  0.868463  ,  0.8548885 , -0.8296293 , -0.8442363 ,\n",
       "        -0.80021834,  0.80333495,  0.8549127 ,  0.88080615, -0.79701227,\n",
       "         0.8226913 , -0.8445087 ,  0.85084885,  0.77885073,  0.89807963,\n",
       "         0.77698743,  0.88127834,  0.8854606 ,  0.7669118 ,  0.7716631 ,\n",
       "        -0.8341378 , -0.8620158 ,  0.88608384, -0.8866849 , -0.7415867 ,\n",
       "         0.8217696 , -0.8022643 , -0.87657815,  0.8388907 ,  0.8047187 ,\n",
       "        -0.83481395], dtype=float32))"
      ]
     },
     "execution_count": 28,
     "metadata": {},
     "output_type": "execute_result"
    }
   ],
   "source": [
    "\n",
    "test_word='beautiful'\n",
    "test_index=words.index(test_word)\n",
    "test_index,vec[test_index]"
   ]
  },
  {
   "cell_type": "code",
   "execution_count": 44,
   "metadata": {},
   "outputs": [
    {
     "name": "stdout",
     "output_type": "stream",
     "text": [
      "[ 357 4980 4691 1757 3705 2346 1182 4991]\n",
      "target word:['beautiful'] -> top8 words:['beautiful', 'Carre', 'extraordinar', 'surprise', 'lonel', 'delight', 'enjoyable', 'sensitive']\n"
     ]
    }
   ],
   "source": [
    "result=a.find_top_K(D,test_index,8)\n",
    "print(f\"target word:{[test_word]} -> top8 words:{result}\")"
   ]
  },
  {
   "cell_type": "code",
   "execution_count": null,
   "metadata": {},
   "outputs": [],
   "source": []
  }
 ],
 "metadata": {
  "kernelspec": {
   "display_name": "Python 3",
   "language": "python",
   "name": "python3"
  },
  "language_info": {
   "codemirror_mode": {
    "name": "ipython",
    "version": 3
   },
   "file_extension": ".py",
   "mimetype": "text/x-python",
   "name": "python",
   "nbconvert_exporter": "python",
   "pygments_lexer": "ipython3",
   "version": "3.7.6"
  }
 },
 "nbformat": 4,
 "nbformat_minor": 4
}
